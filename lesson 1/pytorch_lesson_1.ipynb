{
 "cells": [
  {
   "cell_type": "markdown",
   "id": "475a7da5-da2b-4c1d-a0eb-2b4fbe1e8394",
   "metadata": {},
   "source": [
    "# PyTorch `state_dict` Tutorial"
   ]
  },
  {
   "cell_type": "code",
   "execution_count": 27,
   "id": "88ab721d-ac96-4f01-8c1d-45d537c46c7a",
   "metadata": {},
   "outputs": [],
   "source": [
    "import torch\n",
    "import torch.nn as nn"
   ]
  },
  {
   "cell_type": "markdown",
   "id": "c9151b36-02c9-44bd-9dd3-d284ea7dd204",
   "metadata": {},
   "source": [
    "# --- 1. Standard Python __dict__ ---"
   ]
  },
  {
   "cell_type": "code",
   "execution_count": 30,
   "id": "df02859c-1069-48b9-88de-416089a36c39",
   "metadata": {},
   "outputs": [
    {
     "name": "stdout",
     "output_type": "stream",
     "text": [
      "1. Standard Python __dict__:\n",
      "{'a': 10, 'b': 20}\n",
      "\n"
     ]
    }
   ],
   "source": [
    "\n",
    "class MyClass:\n",
    "    def __init__(self):\n",
    "        self.a = 10\n",
    "        self.b = 20\n",
    "\n",
    "obj = MyClass()\n",
    "print(\"1. Standard Python __dict__:\")\n",
    "# shows all attributes of the object\n",
    "print(obj.__dict__)  \n",
    "print()"
   ]
  },
  {
   "cell_type": "markdown",
   "id": "fa8651cf-53ad-45cd-bb7a-5da37aeefa03",
   "metadata": {},
   "source": [
    "# --- 2. Empty state_dict when no parameters ---"
   ]
  },
  {
   "cell_type": "code",
   "execution_count": 31,
   "id": "51899674-801c-4656-8f43-254e0ccd2478",
   "metadata": {},
   "outputs": [
    {
     "name": "stdout",
     "output_type": "stream",
     "text": [
      "2. Model with no parameters -> state_dict():\n",
      "OrderedDict()\n",
      "\n"
     ]
    }
   ],
   "source": [
    "class NetEmpty(nn.Module):\n",
    "    def __init__(self):\n",
    "        super().__init__()\n",
    "        self.a = 2  # just a plain Python int\n",
    "\n",
    "model_empty = NetEmpty()\n",
    "print(\"2. Model with no parameters -> state_dict():\")\n",
    "print(model_empty.state_dict())\n",
    "print()"
   ]
  },
  {
   "cell_type": "markdown",
   "id": "eaa8b61e-4040-4c52-b86c-c343a8135dc3",
   "metadata": {},
   "source": [
    "# --- 3. state_dict with nn.Linear layer ---"
   ]
  },
  {
   "cell_type": "code",
   "execution_count": 32,
   "id": "d106cafa-aa1e-40a4-9fcc-84222f73277a",
   "metadata": {},
   "outputs": [
    {
     "name": "stdout",
     "output_type": "stream",
     "text": [
      "3. state_dict of nn.Linear:\n",
      "OrderedDict([('weight', tensor([[ 0.4049, -0.3305,  0.4929],\n",
      "        [-0.1182, -0.1007,  0.5056]])), ('bias', tensor([-0.0890,  0.5624]))])\n",
      "Type of weight: <class 'torch.nn.parameter.Parameter'>\n",
      "Type of bias: <class 'torch.nn.parameter.Parameter'>\n",
      "\n"
     ]
    }
   ],
   "source": [
    "linear_layer = nn.Linear(3, 2)\n",
    "print(\"3. state_dict of nn.Linear:\")\n",
    "print(linear_layer.state_dict())\n",
    "print(\"Type of weight:\", type(linear_layer.weight))\n",
    "print(\"Type of bias:\", type(linear_layer.bias))\n",
    "print()"
   ]
  },
  {
   "cell_type": "markdown",
   "id": "5874eb32-1cc5-4ee8-b5a2-3f75f57f5827",
   "metadata": {},
   "source": [
    "# --- 4. Custom module with both parameter and normal attribute ---"
   ]
  },
  {
   "cell_type": "code",
   "execution_count": 37,
   "id": "9daef02e-04cb-4b55-8793-038b742299a0",
   "metadata": {},
   "outputs": [
    {
     "name": "stdout",
     "output_type": "stream",
     "text": [
      "4. state_dict with layer + normal attribute:\n",
      "odict_keys(['fc.weight', 'fc.bias'])\n",
      "\n"
     ]
    }
   ],
   "source": [
    "class NetWithLayer(nn.Module):\n",
    "    def __init__(self):\n",
    "        super().__init__()\n",
    "        self.fc = nn.Linear(10, 5)   # has weight and bias\n",
    "        self.a = 2                   # normal attribute\n",
    "\n",
    "model = NetWithLayer()\n",
    "print(\"4. state_dict with layer + normal attribute:\")\n",
    "print(model.state_dict().keys())  # only parameters appear, not `a`\n",
    "print()"
   ]
  },
  {
   "cell_type": "markdown",
   "id": "366609d0-4afc-46ea-9559-882573b587e1",
   "metadata": {},
   "source": [
    "# --- 5. Registering a parameter manually ---"
   ]
  },
  {
   "cell_type": "code",
   "execution_count": 38,
   "id": "931f77c0-9e33-46b7-a630-7247b7b8476b",
   "metadata": {},
   "outputs": [
    {
     "name": "stdout",
     "output_type": "stream",
     "text": [
      "5. state_dict after registering custom nn.Parameter:\n",
      "OrderedDict([('a', tensor(2.))])\n",
      "\n"
     ]
    }
   ],
   "source": [
    "class NetWithParam(nn.Module):\n",
    "    def __init__(self):\n",
    "        super().__init__()\n",
    "        self.a = nn.Parameter(torch.tensor(2.0))  # now tracked\n",
    "\n",
    "model_param = NetWithParam()\n",
    "print(\"5. state_dict after registering custom nn.Parameter:\")\n",
    "print(model_param.state_dict())\n",
    "print()"
   ]
  },
  {
   "cell_type": "markdown",
   "id": "61ae195f-77d7-4261-90c0-e6a5d5a9ed75",
   "metadata": {},
   "source": [
    "# --- 6. Registering a buffer (non-learnable but saved) ---"
   ]
  },
  {
   "cell_type": "code",
   "execution_count": 39,
   "id": "e6243913-0b72-4b03-8b00-6f2fc9076f41",
   "metadata": {},
   "outputs": [
    {
     "name": "stdout",
     "output_type": "stream",
     "text": [
      "6. state_dict after registering buffer:\n",
      "OrderedDict([('a', tensor(2.))])\n",
      "\n"
     ]
    }
   ],
   "source": [
    "class NetWithBuffer(nn.Module):\n",
    "    def __init__(self):\n",
    "        super().__init__()\n",
    "        self.register_buffer(\"a\", torch.tensor(2.0))\n",
    "\n",
    "model_buffer = NetWithBuffer()\n",
    "print(\"6. state_dict after registering buffer:\")\n",
    "print(model_buffer.state_dict())\n",
    "print()"
   ]
  },
  {
   "cell_type": "markdown",
   "id": "774a5649-6fe3-4415-b953-313a7bd3129e",
   "metadata": {},
   "source": [
    "# --- 7. Saving and loading state_dict ---"
   ]
  },
  {
   "cell_type": "code",
   "execution_count": 34,
   "id": "49c99a15-9e0d-48c6-9b87-d1eb42aac123",
   "metadata": {},
   "outputs": [
    {
     "name": "stdout",
     "output_type": "stream",
     "text": [
      "7. Loaded state_dict into new model:\n",
      "odict_keys(['fc.weight', 'fc.bias'])\n"
     ]
    }
   ],
   "source": [
    "path = \"model.pth\"\n",
    "torch.save(model.state_dict(), path)\n",
    "\n",
    "# new instance\n",
    "new_model = NetWithLayer()\n",
    "new_model.load_state_dict(torch.load(path))\n",
    "print(\"7. Loaded state_dict into new model:\")\n",
    "print(new_model.state_dict().keys())"
   ]
  },
  {
   "cell_type": "markdown",
   "id": "010c59f9-7a4c-451e-8b85-bada68373527",
   "metadata": {},
   "source": [
    "# --- 8. Optimizer state_dict ---"
   ]
  },
  {
   "cell_type": "code",
   "execution_count": 40,
   "id": "c99bb98a-059d-4aeb-ac91-80b92791912a",
   "metadata": {},
   "outputs": [
    {
     "name": "stdout",
     "output_type": "stream",
     "text": [
      "8. Optimizer state_dict (truncated keys):\n",
      "dict_keys(['state', 'param_groups'])\n"
     ]
    }
   ],
   "source": [
    "optimizer = torch.optim.SGD(new_model.parameters(), lr=0.01, momentum=0.9)\n",
    "print(\"8. Optimizer state_dict (truncated keys):\")\n",
    "print(optimizer.state_dict().keys())"
   ]
  },
  {
   "cell_type": "code",
   "execution_count": null,
   "id": "1625ea19-fb46-4e0c-acdc-7f6b8f18f222",
   "metadata": {},
   "outputs": [],
   "source": []
  }
 ],
 "metadata": {
  "kernelspec": {
   "display_name": "Python 3 (ipykernel)",
   "language": "python",
   "name": "python3"
  },
  "language_info": {
   "codemirror_mode": {
    "name": "ipython",
    "version": 3
   },
   "file_extension": ".py",
   "mimetype": "text/x-python",
   "name": "python",
   "nbconvert_exporter": "python",
   "pygments_lexer": "ipython3",
   "version": "3.11.8"
  }
 },
 "nbformat": 4,
 "nbformat_minor": 5
}
